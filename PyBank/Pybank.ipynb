{
 "cells": [
  {
   "cell_type": "code",
   "execution_count": 54,
   "id": "laughing-china",
   "metadata": {},
   "outputs": [],
   "source": [
    "# Import the pathlib and csv library\n",
    "from pathlib import Path\n",
    "import csv"
   ]
  },
  {
   "cell_type": "code",
   "execution_count": 55,
   "id": "accredited-jewel",
   "metadata": {},
   "outputs": [],
   "source": [
    "# Set the file path\n",
    "csvpath = Path('Budget_data.csv')"
   ]
  },
  {
   "cell_type": "code",
   "execution_count": 56,
   "id": "prompt-packing",
   "metadata": {},
   "outputs": [],
   "source": [
    "# Create empty lists to iterate through specific rows for the following variables\n",
    "\n",
    "total_months = 0\n",
    "total_profit = 0\n",
    "month_of_change = []\n",
    "profit_change_list = []\n",
    "last_month_profit = None\n",
    "monthly_profit_change = []"
   ]
  },
  {
   "cell_type": "code",
   "execution_count": 57,
   "id": "linear-carolina",
   "metadata": {},
   "outputs": [],
   "source": [
    "# Initialize line_num variable\n",
    "#line_num = 0"
   ]
  },
  {
   "cell_type": "code",
   "execution_count": 58,
   "id": "junior-cleaning",
   "metadata": {},
   "outputs": [
    {
     "name": "stdout",
     "output_type": "stream",
     "text": [
      "<class '_io.TextIOWrapper'>\n",
      "<class '_csv.reader'>\n",
      "Financial Analysis\n",
      "-----------------\n",
      "Total months: 86\n",
      "Total: $38382578\n",
      "Average change: -2315.12\n",
      "Greatest Increase in Profits: Feb-2012 ($1926159)\n",
      "\n",
      "Greatest Decrease in Profits: Sep-2013 ($-2196167)\n",
      "\n"
     ]
    }
   ],
   "source": [
    "# Open the input path as a file object\n",
    "with open(csvpath, 'r') as csvfile:\n",
    "    \n",
    "    # # Print the data type of the file object\n",
    "    print (type(csvfile))\n",
    "     # Pass in the csv file to csv.reader() function\n",
    "    # (with ',') as the delmiter/separator) and return the csvreader object\n",
    "    csvreader = csv.reader(csvfile, delimiter=',')\n",
    "     # Print the datatype of the csvreader\n",
    "    print(type(csvreader))\n",
    "    \n",
    "    # Go to the next row from the start of the file\n",
    "    # (which is often the first row/header) and iterate line_num by 1\n",
    "    header = next(csvreader)\n",
    "    #line_num += 1\n",
    "    # Print the header\n",
    "   # print(f\"{header} <---- HEADER\")\n",
    "    \n",
    "    # Iterate through the rows in the stored contents\n",
    "    for row in csvreader:\n",
    "        \n",
    "        # Append the total months and total profits to their associated lists\n",
    "        total_profit = total_profit + int(row[1])\n",
    "        total_months = total_months + 1\n",
    "        month_of_change.append(row[0])\n",
    "        profit_change_list.append(int(row[1]))\n",
    "        \n",
    "        \n",
    "    # Iterate through the profits in order to get the monthly change in profits\n",
    "    for i in range(len(profit_change_list)-1):\n",
    "        \n",
    "        #The difference between two months and append to monthly profit change\n",
    "        monthly_profit_change.append(profit_change_list[i+1]-profit_change_list[i])\n",
    "        \n",
    "    # Find max and min of the momnhtly profits from the list\n",
    "    \n",
    "    max_increase_value = max(monthly_profit_change)\n",
    "    max_decrease_value = min(monthly_profit_change)\n",
    "    max_index = monthly_profit_change.index(max_increase_value) + 1\n",
    "    min_index = monthly_profit_change.index(max_decrease_value) + 1\n",
    "    average_change = round(sum(monthly_profit_change)/len(monthly_profit_change), 2)\n",
    "    \n",
    "    # Print Stat\n",
    "    max_month = month_of_change[max_index]\n",
    "    min_month = month_of_change[min_index]\n",
    "    \n",
    "    #write the results into a file \n",
    "    with open ('output.txt', 'w') as op: \n",
    "        print(\"Financial Analysis\")\n",
    "        print(\"-----------------\")\n",
    "        print(f\"Total months: {len(month_of_change)}\")\n",
    "        print(f\"Total: ${sum(profit_change_list)}\") \n",
    "        print(f\"Average change: {average_change}\")\n",
    "    \n",
    "    print(f\"Greatest Increase in Profits: {month_of_change[max_index]} (${max_increase_value})\\n\")\n",
    "    print(f\"Greatest Decrease in Profits: {month_of_change[min_index]} (${max_decrease_value})\\n\")\n",
    "    \n",
    "    \n",
    "    \n",
    "    \n",
    "    \n",
    "    \n",
    "    \n",
    "    \n",
    "    \n",
    "        \n",
    "        \n",
    "        \n",
    "        \n",
    "        \n",
    "        \n",
    "        \n",
    "        \n",
    "        \n",
    "        \n",
    "        \n",
    "        \n",
    "        \n",
    "        \n",
    "        \n",
    "        \n",
    "    \n",
    "    \n",
    "    \n",
    "    "
   ]
  },
  {
   "cell_type": "code",
   "execution_count": null,
   "id": "latin-crowd",
   "metadata": {},
   "outputs": [],
   "source": []
  }
 ],
 "metadata": {
  "kernelspec": {
   "display_name": "Python 3",
   "language": "python",
   "name": "python3"
  },
  "language_info": {
   "codemirror_mode": {
    "name": "ipython",
    "version": 3
   },
   "file_extension": ".py",
   "mimetype": "text/x-python",
   "name": "python",
   "nbconvert_exporter": "python",
   "pygments_lexer": "ipython3",
   "version": "3.8.5"
  }
 },
 "nbformat": 4,
 "nbformat_minor": 5
}
